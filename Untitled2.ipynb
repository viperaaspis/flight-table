{
  "nbformat": 4,
  "nbformat_minor": 0,
  "metadata": {
    "colab": {
      "provenance": [],
      "authorship_tag": "ABX9TyOJeZ3Lnx5NMBK02mztSTan",
      "include_colab_link": true
    },
    "kernelspec": {
      "name": "python3",
      "display_name": "Python 3"
    },
    "language_info": {
      "name": "python"
    }
  },
  "cells": [
    {
      "cell_type": "markdown",
      "metadata": {
        "id": "view-in-github",
        "colab_type": "text"
      },
      "source": [
        "<a href=\"https://colab.research.google.com/github/viperaaspis/flight-table/blob/main/Untitled2.ipynb\" target=\"_parent\"><img src=\"https://colab.research.google.com/assets/colab-badge.svg\" alt=\"Open In Colab\"/></a>"
      ]
    },
    {
      "cell_type": "code",
      "execution_count": null,
      "metadata": {
        "id": "19gHvHYsyrtj"
      },
      "outputs": [],
      "source": [
        "!apt-get install -y wget\n",
        "!wget \"https://ftp-trace.ncbi.nlm.nih.gov/sra/sdk/2.10.9/sratoolkit.2.10.9-ubuntu64.tar.gz\"\n",
        "!tar -xzvf sratoolkit.2.10.9-ubuntu64.tar.gz"
      ]
    },
    {
      "cell_type": "code",
      "source": [
        "import os\n",
        "os.environ['PATH'] += \":/content/sratoolkit.2.10.9-ubuntu64/bin\""
      ],
      "metadata": {
        "id": "AVh2Og7Ry3wK"
      },
      "execution_count": null,
      "outputs": []
    },
    {
      "cell_type": "code",
      "source": [
        "!vdb-config"
      ],
      "metadata": {
        "id": "AMamNiuX0pHy"
      },
      "execution_count": null,
      "outputs": []
    },
    {
      "cell_type": "code",
      "source": [
        "!fastq-dump --version"
      ],
      "metadata": {
        "id": "Cx7c3fPs0s9g"
      },
      "execution_count": null,
      "outputs": []
    },
    {
      "cell_type": "code",
      "source": [
        "!which fastq-dump\n",
        "!fastq-dump --version"
      ],
      "metadata": {
        "id": "GIOtYut51NSF"
      },
      "execution_count": null,
      "outputs": []
    },
    {
      "cell_type": "code",
      "source": [
        "!vdb-config --interactive"
      ],
      "metadata": {
        "id": "rFmk1CYB0xr8"
      },
      "execution_count": null,
      "outputs": []
    },
    {
      "cell_type": "code",
      "source": [
        "!prefetch SRR15852394"
      ],
      "metadata": {
        "id": "FtIdeT8y7T2o"
      },
      "execution_count": null,
      "outputs": []
    },
    {
      "cell_type": "code",
      "source": [
        "!rmdir SRR15852394/"
      ],
      "metadata": {
        "id": "t7g7wbvB9mFr"
      },
      "execution_count": null,
      "outputs": []
    },
    {
      "cell_type": "code",
      "source": [
        "!prefetch SRX12143618"
      ],
      "metadata": {
        "id": "6l-X_91t_BwN"
      },
      "execution_count": null,
      "outputs": []
    },
    {
      "cell_type": "code",
      "source": [
        "!which prefetch\n",
        "!prefetch --version"
      ],
      "metadata": {
        "id": "cDEloO6N_t5V"
      },
      "execution_count": null,
      "outputs": []
    },
    {
      "cell_type": "code",
      "source": [
        "!prefetch SRR15852396"
      ],
      "metadata": {
        "colab": {
          "base_uri": "https://localhost:8080/"
        },
        "id": "-mvRWNVcCmEE",
        "outputId": "f6ec6108-701a-4d7f-86e7-a40154b480d4"
      },
      "execution_count": 32,
      "outputs": [
        {
          "output_type": "stream",
          "name": "stdout",
          "text": [
            "\n",
            "2023-06-28T12:46:42 prefetch.2.10.9: 1) Downloading 'SRR15852396'...\n",
            "2023-06-28T12:46:42 prefetch.2.10.9:  Downloading via HTTPS...\n",
            "2023-06-28T12:50:19 prefetch.2.10.9:  HTTPS download succeed\n",
            "2023-06-28T12:50:24 prefetch.2.10.9:  'SRR15852396' is valid\n",
            "2023-06-28T12:50:24 prefetch.2.10.9: 1) 'SRR15852396' was downloaded successfully\n",
            "2023-06-28T12:50:24 prefetch.2.10.9: 'SRR15852396' has 0 unresolved dependencies\n"
          ]
        }
      ]
    }
  ]
}